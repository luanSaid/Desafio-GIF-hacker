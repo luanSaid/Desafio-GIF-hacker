{
  "nbformat": 4,
  "nbformat_minor": 0,
  "metadata": {
    "colab": {
      "provenance": [],
      "toc_visible": true,
      "authorship_tag": "ABX9TyM0kUn8qRJQ5TjH2ELIJ3eE"
    },
    "kernelspec": {
      "name": "python3",
      "display_name": "Python 3"
    },
    "language_info": {
      "name": "python"
    }
  },
  "cells": [
    {
      "cell_type": "code",
      "execution_count": null,
      "metadata": {
        "id": "8D4svYNGqrj3"
      },
      "outputs": [],
      "source": [
        "!pip install requests python-docx"
      ]
    },
    {
      "cell_type": "code",
      "source": [
        "import requests as r\n",
        "from docx import Document\n",
        "from google.colab import userdata\n",
        "userdata.get('subscription_key')\n",
        "\n",
        "\n",
        "endpoint = \"https://oai-dio-102-dev-eastus.openai.azure.com/\"\n",
        "location = \"eastus2\"\n",
        "\n"
      ],
      "metadata": {
        "id": "KoelR0xQrGMD"
      },
      "execution_count": null,
      "outputs": []
    }
  ]
}