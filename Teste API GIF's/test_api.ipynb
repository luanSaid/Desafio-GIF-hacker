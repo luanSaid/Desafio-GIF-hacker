import json
import requests
import pandas as pd

# set the apikey and limit
apikey = "LIVDSRZULELA"  
# test value
lmt = 20

# our test search
search_term = "HACKER"

# get the top 8 GIFs for the search term
r = requests.get(
    "https://api.tenor.com/v1/search?q=%s&key=%s&limit=%s" % (search_term, apikey, lmt))

if r.status_code == 200:
    # load the GIFs using the urls for the smaller GIF sizes
    top_8gifs = json.loads(r.content)
    df = pd.DataFrame(top_8gifs)
    print(df)
else:
    top_8gifs = None